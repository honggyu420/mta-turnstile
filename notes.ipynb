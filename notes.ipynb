{
 "cells": [
  {
   "cell_type": "code",
   "execution_count": 3,
   "metadata": {},
   "outputs": [
    {
     "data": {
      "text/plain": [
       "'\\nreport on turnstile arrests: https://www.amny.com/transit/brooklyn-turnstile-jumping-arrests-target-poor-african-americans-report-1-14490216/\\nhttps://www.cssny.org/publications/entry/the-crime-of-being-short-2.75\\nhttps://www.cssny.org/news/entry/mta-false-fare-evasion-narrative-data?gclid=Cj0KCQjw0pfzBRCOARIsANi0g0v3U3BSmZJ_HkEBKV2SM3WTkzX83dbliIebhR3ncKi4gt7u98aRrb0aAgT2EALw_wcB\\nMTA budgetting: https://new.mta.info/budget/MTA-operating-budget-basics\\n'"
      ]
     },
     "execution_count": 3,
     "metadata": {},
     "output_type": "execute_result"
    }
   ],
   "source": [
    "\"\"\"\n",
    "report on turnstile arrests: https://www.amny.com/transit/brooklyn-turnstile-jumping-arrests-target-poor-african-americans-report-1-14490216/\n",
    "https://www.cssny.org/publications/entry/the-crime-of-being-short-2.75\n",
    "https://www.cssny.org/news/entry/mta-false-fare-evasion-narrative-data?gclid=Cj0KCQjw0pfzBRCOARIsANi0g0v3U3BSmZJ_HkEBKV2SM3WTkzX83dbliIebhR3ncKi4gt7u98aRrb0aAgT2EALw_wcB\n",
    "MTA budgetting: https://new.mta.info/budget/MTA-operating-budget-basics\n",
    "\"\"\""
   ]
  },
  {
   "cell_type": "code",
   "execution_count": null,
   "metadata": {},
   "outputs": [],
   "source": []
  }
 ],
 "metadata": {
  "kernelspec": {
   "display_name": "Python 3",
   "language": "python",
   "name": "python3"
  },
  "language_info": {
   "codemirror_mode": {
    "name": "ipython",
    "version": 3
   },
   "file_extension": ".py",
   "mimetype": "text/x-python",
   "name": "python",
   "nbconvert_exporter": "python",
   "pygments_lexer": "ipython3",
   "version": "3.7.3"
  }
 },
 "nbformat": 4,
 "nbformat_minor": 4
}
