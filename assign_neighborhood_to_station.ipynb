{
 "cells": [
  {
   "cell_type": "code",
   "execution_count": 5,
   "metadata": {},
   "outputs": [],
   "source": [
    "!pip install shapely"
   ]
  },
  {
   "cell_type": "code",
   "execution_count": 76,
   "metadata": {},
   "outputs": [],
   "source": [
    "import json\n",
    "import csv"
   ]
  },
  {
   "cell_type": "code",
   "execution_count": 8,
   "metadata": {},
   "outputs": [],
   "source": [
    "neighborhood_geojson = {}\n",
    "with open('data/neighborhoods.geojson', 'r') as f:\n",
    "    neighborhood_geojson = json.load(f)"
   ]
  },
  {
   "cell_type": "code",
   "execution_count": 42,
   "metadata": {},
   "outputs": [
    {
     "name": "stdout",
     "output_type": "stream",
     "text": [
      "dict_keys(['type', 'features'])\n"
     ]
    }
   ],
   "source": [
    "print(neighborhood_geojson.keys())"
   ]
  },
  {
   "cell_type": "code",
   "execution_count": 69,
   "metadata": {},
   "outputs": [
    {
     "name": "stdout",
     "output_type": "stream",
     "text": [
      "FeatureCollection\n"
     ]
    }
   ],
   "source": [
    "print(neighborhood_geojson['type'])"
   ]
  },
  {
   "cell_type": "code",
   "execution_count": 48,
   "metadata": {},
   "outputs": [
    {
     "name": "stdout",
     "output_type": "stream",
     "text": [
      "195\n"
     ]
    }
   ],
   "source": [
    "print(len(neighborhood_geojson['features']))"
   ]
  },
  {
   "cell_type": "code",
   "execution_count": 12,
   "metadata": {},
   "outputs": [
    {
     "name": "stdout",
     "output_type": "stream",
     "text": [
      "dict_keys(['type', 'properties', 'geometry'])\n"
     ]
    }
   ],
   "source": [
    "print(neighborhood_geojson['features'][0].keys())"
   ]
  },
  {
   "cell_type": "code",
   "execution_count": 13,
   "metadata": {},
   "outputs": [
    {
     "name": "stdout",
     "output_type": "stream",
     "text": [
      "Feature\n"
     ]
    }
   ],
   "source": [
    "print(neighborhood_geojson['features'][0]['type'])"
   ]
  },
  {
   "cell_type": "code",
   "execution_count": 14,
   "metadata": {},
   "outputs": [
    {
     "name": "stdout",
     "output_type": "stream",
     "text": [
      "{'ntacode': 'BK88', 'shape_area': '54005019.048', 'county_fips': '047', 'ntaname': 'Borough Park', 'shape_leng': '39247.2278309', 'boro_name': 'Brooklyn', 'boro_code': '3'}\n"
     ]
    }
   ],
   "source": [
    "print(neighborhood_geojson['features'][0]['properties'])"
   ]
  },
  {
   "cell_type": "code",
   "execution_count": 23,
   "metadata": {},
   "outputs": [
    {
     "name": "stdout",
     "output_type": "stream",
     "text": [
      "2\n"
     ]
    }
   ],
   "source": [
    "print(len(neighborhood_geojson['features'][0]['geometry']))"
   ]
  },
  {
   "cell_type": "code",
   "execution_count": 27,
   "metadata": {},
   "outputs": [
    {
     "name": "stdout",
     "output_type": "stream",
     "text": [
      "dict_keys(['type', 'coordinates'])\n"
     ]
    }
   ],
   "source": [
    "print(neighborhood_geojson['features'][0]['geometry'].keys())"
   ]
  },
  {
   "cell_type": "code",
   "execution_count": 28,
   "metadata": {},
   "outputs": [
    {
     "name": "stdout",
     "output_type": "stream",
     "text": [
      "MultiPolygon\n"
     ]
    }
   ],
   "source": [
    "print(neighborhood_geojson['features'][0]['geometry']['type'])"
   ]
  },
  {
   "cell_type": "code",
   "execution_count": 30,
   "metadata": {},
   "outputs": [
    {
     "name": "stdout",
     "output_type": "stream",
     "text": [
      "1\n"
     ]
    }
   ],
   "source": [
    "print(len(neighborhood_geojson['features'][0]['geometry']['coordinates']))"
   ]
  },
  {
   "cell_type": "code",
   "execution_count": 31,
   "metadata": {},
   "outputs": [
    {
     "name": "stdout",
     "output_type": "stream",
     "text": [
      "1\n"
     ]
    }
   ],
   "source": [
    "print(len(neighborhood_geojson['features'][0]['geometry']['coordinates'][0]))"
   ]
  },
  {
   "cell_type": "code",
   "execution_count": 34,
   "metadata": {},
   "outputs": [
    {
     "name": "stdout",
     "output_type": "stream",
     "text": [
      "130\n"
     ]
    }
   ],
   "source": [
    "print(len(neighborhood_geojson['features'][0]['geometry']['coordinates'][0][0]))"
   ]
  },
  {
   "cell_type": "code",
   "execution_count": 35,
   "metadata": {},
   "outputs": [
    {
     "name": "stdout",
     "output_type": "stream",
     "text": [
      "[-73.97604935657381, 40.631275905646774]\n"
     ]
    }
   ],
   "source": [
    "print(neighborhood_geojson['features'][0]['geometry']['coordinates'][0][0][0])"
   ]
  },
  {
   "cell_type": "code",
   "execution_count": 90,
   "metadata": {},
   "outputs": [],
   "source": [
    "stations = []\n",
    "with open('data/station_lat_lon.csv', 'r') as f:\n",
    "    reader = csv.reader(f)\n",
    "    for line in reader:\n",
    "        if line[0] == 'stop_name':\n",
    "            continue\n",
    "        station = {}\n",
    "        station['station_name'] = line[0]\n",
    "        station['lat'] = float(line[1])\n",
    "        station['lon'] = float(line[2])\n",
    "        stations.append(station)\n",
    "stations = stations[1:]"
   ]
  },
  {
   "cell_type": "code",
   "execution_count": 91,
   "metadata": {},
   "outputs": [
    {
     "name": "stdout",
     "output_type": "stream",
     "text": [
      "445 / 500 matches\n"
     ]
    }
   ],
   "source": [
    "from shapely.geometry import Point\n",
    "from shapely.geometry.polygon import Polygon\n",
    "\n",
    "match_counter = 0\n",
    "for feature in neighborhood_geojson['features']:\n",
    "    polygon = Polygon(feature['geometry']['coordinates'][0][0])\n",
    "    for station in stations:\n",
    "        point = Point(station['lon'], station['lat'])\n",
    "        if polygon.contains(point):\n",
    "            match_counter += 1\n",
    "            station['neighborhood'] = feature['properties']['ntaname']\n",
    "            station['borough'] = feature['properties']['boro_name']\n",
    "            station['borough_code'] = feature['properties']['boro_code']\n",
    "print(match_counter, '/', len(stations), 'matches')"
   ]
  },
  {
   "cell_type": "code",
   "execution_count": 94,
   "metadata": {},
   "outputs": [],
   "source": [
    "stations_to_write = []\n",
    "stations_recorded = set()\n",
    "for station in stations:\n",
    "    if station['station_name'] not in stations_recorded and 'neighborhood' in station:\n",
    "        stations_to_write.append(station)\n",
    "        stations_recorded.add(station['station_name'])\n",
    "\n",
    "for station in stations:\n",
    "    if station['station_name'] not in stations_recorded and 'neighborhood' not in station:\n",
    "        stations_to_write.append(station)\n",
    "        stations_recorded.add(station['station_name'])\n",
    "\n",
    "for station in stations_to_write:\n",
    "    del station['lat']\n",
    "    del station['lon']"
   ]
  },
  {
   "cell_type": "code",
   "execution_count": 95,
   "metadata": {},
   "outputs": [],
   "source": [
    "with open('data/station_neighborhood_mapping.json', 'w') as f:\n",
    "    json.dump(stations_to_write, f)\n",
    "    \n",
    "with open('data/station_neighborhood_mapping.csv', 'w') as f:\n",
    "    writer = csv.writer(f)\n",
    "    header = ['station_name', 'neighborhood', 'borough', 'borough_code']\n",
    "    writer.writerow(header)\n",
    "    for station in stations_to_write:\n",
    "        station_name = station.get('station_name', '')\n",
    "        neighborhood = station.get('neighborhood', '')\n",
    "        borough = station.get('borough', '')\n",
    "        borough_code = station.get('borough_code', '')\n",
    "        writer.writerow([station_name, neighborhood, borough, borough_code])\n",
    "    "
   ]
  },
  {
   "cell_type": "code",
   "execution_count": null,
   "metadata": {},
   "outputs": [],
   "source": []
  }
 ],
 "metadata": {
  "kernelspec": {
   "display_name": "Python 3",
   "language": "python",
   "name": "python3"
  },
  "language_info": {
   "codemirror_mode": {
    "name": "ipython",
    "version": 3
   },
   "file_extension": ".py",
   "mimetype": "text/x-python",
   "name": "python",
   "nbconvert_exporter": "python",
   "pygments_lexer": "ipython3",
   "version": "3.7.3"
  }
 },
 "nbformat": 4,
 "nbformat_minor": 4
}
