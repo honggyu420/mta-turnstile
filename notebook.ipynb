{
 "cells": [
  {
   "cell_type": "code",
   "execution_count": null,
   "metadata": {},
   "outputs": [],
   "source": [
    "!pip install psycopg2-binary\n",
    "!pip install ipython-sql\n",
    "!pip install pandas"
   ]
  },
  {
   "cell_type": "code",
   "execution_count": 16,
   "metadata": {},
   "outputs": [],
   "source": [
    "import configparser"
   ]
  },
  {
   "cell_type": "code",
   "execution_count": 26,
   "metadata": {},
   "outputs": [],
   "source": [
    "config = configparser.ConfigParser()\n",
    "config.read('config/db.cfg')\n",
    "pg_info = config['POSTGRES']\n",
    "\n",
    "dbname = pg_info['db']\n",
    "host = pg_info['host']\n",
    "user = pg_info['user']\n",
    "password = pg_info['password']\n",
    "port = ''\n",
    "if 'port' in pg_info:\n",
    "    port = ':' + pg_info['port']\n",
    "\n",
    "conn_string = 'postgresql://{}:{}@{}{}/{}'.format(user, password, host, port, dbname)"
   ]
  },
  {
   "cell_type": "code",
   "execution_count": 27,
   "metadata": {},
   "outputs": [],
   "source": [
    "%reload_ext sql"
   ]
  },
  {
   "cell_type": "code",
   "execution_count": 28,
   "metadata": {},
   "outputs": [
    {
     "data": {
      "text/plain": [
       "'Connected: postgres@mtatransit'"
      ]
     },
     "execution_count": 28,
     "metadata": {},
     "output_type": "execute_result"
    }
   ],
   "source": [
    "%sql $conn_string"
   ]
  },
  {
   "cell_type": "code",
   "execution_count": null,
   "metadata": {},
   "outputs": [],
   "source": [
    "%%sql\n",
    "SELECT station, recorded_date, sum(entry_count) as daily_entry\n",
    "FROM turnstile_transformed\n",
    "group by station, recorded_date\n",
    "order by recorded_date desc\n",
    "LIMIT 50"
   ]
  },
  {
   "cell_type": "code",
   "execution_count": null,
   "metadata": {},
   "outputs": [],
   "source": [
    "%%sql\n",
    "SELECT recorded_date, sum(entry_count) as daily_entry\n",
    "FROM turnstile_transformed\n",
    "where entry_count < 2048\n",
    "group by recorded_date\n",
    "order by recorded_date desc\n",
    "LIMIT 365"
   ]
  },
  {
   "cell_type": "code",
   "execution_count": 90,
   "metadata": {},
   "outputs": [
    {
     "name": "stdout",
     "output_type": "stream",
     "text": [
      " * postgresql://postgres:***@db/mtatransit\n",
      "4 rows affected.\n"
     ]
    },
    {
     "data": {
      "text/html": [
       "<table>\n",
       "    <tr>\n",
       "        <th>year</th>\n",
       "        <th>avg</th>\n",
       "    </tr>\n",
       "    <tr>\n",
       "        <td>2020.0</td>\n",
       "        <td>5147265.375000000000</td>\n",
       "    </tr>\n",
       "    <tr>\n",
       "        <td>2019.0</td>\n",
       "        <td>5366963.624521072797</td>\n",
       "    </tr>\n",
       "    <tr>\n",
       "        <td>2018.0</td>\n",
       "        <td>5310282.022988505747</td>\n",
       "    </tr>\n",
       "    <tr>\n",
       "        <td>2017.0</td>\n",
       "        <td>5444626.134615384615</td>\n",
       "    </tr>\n",
       "</table>"
      ],
      "text/plain": [
       "[(2020.0, Decimal('5147265.375000000000')),\n",
       " (2019.0, Decimal('5366963.624521072797')),\n",
       " (2018.0, Decimal('5310282.022988505747')),\n",
       " (2017.0, Decimal('5444626.134615384615'))]"
      ]
     },
     "execution_count": 90,
     "metadata": {},
     "output_type": "execute_result"
    }
   ],
   "source": [
    "%%sql\n",
    "SELECT \n",
    "    extract(year from recorded_date) as year,\n",
    "    avg(daily_entry) as daily_entry_avg_weekdays\n",
    "FROM \n",
    "(\n",
    "    SELECT \n",
    "        recorded_date, \n",
    "        sum(entry_count) as daily_entry\n",
    "    FROM \n",
    "        turnstile_transformed\n",
    "    where \n",
    "        entry_count < 2048\n",
    "    group by \n",
    "        recorded_date\n",
    "    having \n",
    "        extract(isodow from recorded_date)  <> 6 and extract(isodow from recorded_date) <> 7 and extract(year from recorded_date) >= 2017\n",
    ") as f\n",
    "GROUP BY \n",
    "    year\n",
    "order by \n",
    "    year desc"
   ]
  },
  {
   "cell_type": "code",
   "execution_count": 91,
   "metadata": {},
   "outputs": [
    {
     "name": "stdout",
     "output_type": "stream",
     "text": [
      " * postgresql://postgres:***@db/mtatransit\n",
      "4 rows affected.\n"
     ]
    },
    {
     "data": {
      "text/html": [
       "<table>\n",
       "    <tr>\n",
       "        <th>year</th>\n",
       "        <th>daily_entry_avg_saturdays</th>\n",
       "    </tr>\n",
       "    <tr>\n",
       "        <td>2020.0</td>\n",
       "        <td>2861537.111111111111</td>\n",
       "    </tr>\n",
       "    <tr>\n",
       "        <td>2019.0</td>\n",
       "        <td>3210772.980769230769</td>\n",
       "    </tr>\n",
       "    <tr>\n",
       "        <td>2018.0</td>\n",
       "        <td>3177205.288461538462</td>\n",
       "    </tr>\n",
       "    <tr>\n",
       "        <td>2017.0</td>\n",
       "        <td>3286764.442307692308</td>\n",
       "    </tr>\n",
       "</table>"
      ],
      "text/plain": [
       "[(2020.0, Decimal('2861537.111111111111')),\n",
       " (2019.0, Decimal('3210772.980769230769')),\n",
       " (2018.0, Decimal('3177205.288461538462')),\n",
       " (2017.0, Decimal('3286764.442307692308'))]"
      ]
     },
     "execution_count": 91,
     "metadata": {},
     "output_type": "execute_result"
    }
   ],
   "source": [
    "%%sql\n",
    "SELECT \n",
    "    extract(year from recorded_date) as year,\n",
    "    avg(daily_entry) as daily_entry_avg_saturdays\n",
    "FROM \n",
    "(\n",
    "    SELECT \n",
    "        recorded_date, \n",
    "        sum(entry_count) as daily_entry\n",
    "    FROM \n",
    "        turnstile_transformed\n",
    "    where \n",
    "        entry_count < 2048\n",
    "    group by \n",
    "        recorded_date\n",
    "    having \n",
    "        extract(isodow from recorded_date) = 6 and extract(year from recorded_date) >= 2017\n",
    ") as f\n",
    "GROUP BY \n",
    "    year\n",
    "order by \n",
    "    year desc"
   ]
  },
  {
   "cell_type": "code",
   "execution_count": 92,
   "metadata": {},
   "outputs": [
    {
     "name": "stdout",
     "output_type": "stream",
     "text": [
      " * postgresql://postgres:***@db/mtatransit\n",
      "4 rows affected.\n"
     ]
    },
    {
     "data": {
      "text/html": [
       "<table>\n",
       "    <tr>\n",
       "        <th>year</th>\n",
       "        <th>daily_entry_avg_sundays</th>\n",
       "    </tr>\n",
       "    <tr>\n",
       "        <td>2020.0</td>\n",
       "        <td>2327390.111111111111</td>\n",
       "    </tr>\n",
       "    <tr>\n",
       "        <td>2019.0</td>\n",
       "        <td>2549091.000000000000</td>\n",
       "    </tr>\n",
       "    <tr>\n",
       "        <td>2018.0</td>\n",
       "        <td>2525166.788461538462</td>\n",
       "    </tr>\n",
       "    <tr>\n",
       "        <td>2017.0</td>\n",
       "        <td>2653569.792452830189</td>\n",
       "    </tr>\n",
       "</table>"
      ],
      "text/plain": [
       "[(2020.0, Decimal('2327390.111111111111')),\n",
       " (2019.0, Decimal('2549091.000000000000')),\n",
       " (2018.0, Decimal('2525166.788461538462')),\n",
       " (2017.0, Decimal('2653569.792452830189'))]"
      ]
     },
     "execution_count": 92,
     "metadata": {},
     "output_type": "execute_result"
    }
   ],
   "source": [
    "%%sql\n",
    "SELECT \n",
    "    extract(year from recorded_date) as year,\n",
    "    avg(daily_entry) as daily_entry_avg_sundays\n",
    "FROM \n",
    "(\n",
    "    SELECT \n",
    "        recorded_date, \n",
    "        sum(entry_count) as daily_entry\n",
    "    FROM \n",
    "        turnstile_transformed\n",
    "    where \n",
    "        entry_count < 2048\n",
    "    group by \n",
    "        recorded_date\n",
    "    having \n",
    "        extract(isodow from recorded_date) = 7 and extract(year from recorded_date) >= 2017\n",
    ") as f\n",
    "GROUP BY \n",
    "    year\n",
    "order by \n",
    "    year desc"
   ]
  },
  {
   "cell_type": "code",
   "execution_count": null,
   "metadata": {},
   "outputs": [],
   "source": []
  }
 ],
 "metadata": {
  "kernelspec": {
   "display_name": "Python 3",
   "language": "python",
   "name": "python3"
  },
  "language_info": {
   "codemirror_mode": {
    "name": "ipython",
    "version": 3
   },
   "file_extension": ".py",
   "mimetype": "text/x-python",
   "name": "python",
   "nbconvert_exporter": "python",
   "pygments_lexer": "ipython3",
   "version": "3.7.3"
  }
 },
 "nbformat": 4,
 "nbformat_minor": 4
}
